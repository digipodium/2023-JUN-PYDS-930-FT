{
 "cells": [
  {
   "cell_type": "code",
   "execution_count": null,
   "metadata": {},
   "outputs": [],
   "source": [
    "import numpy as np"
   ]
  },
  {
   "cell_type": "code",
   "execution_count": null,
   "metadata": {},
   "outputs": [],
   "source": [
    "a = np.array([1, 2, 3])\n",
    "print(a)\n",
    "print(a.shape)\n",
    "b = np.array([\n",
    "    [1, 2, 3],\n",
    "    [4, 5, 6]\n",
    "])\n",
    "print(b)\n",
    "print(b.shape)"
   ]
  },
  {
   "cell_type": "code",
   "execution_count": null,
   "metadata": {},
   "outputs": [],
   "source": [
    "c = np.arange(1, 10, .2) # start, end, step\n",
    "print(c)\n",
    "print(c.shape)\n",
    "d = np.linspace(1,10, 50) # start, end, number of elements\n",
    "print(d)"
   ]
  },
  {
   "cell_type": "code",
   "execution_count": null,
   "metadata": {},
   "outputs": [],
   "source": [
    "print(c.ndim)"
   ]
  },
  {
   "cell_type": "code",
   "execution_count": null,
   "metadata": {},
   "outputs": [],
   "source": [
    "print(c.reshape(3, 3, 5))"
   ]
  },
  {
   "cell_type": "code",
   "execution_count": null,
   "metadata": {},
   "outputs": [],
   "source": [
    "np.random.randint(-99, 99, (3, 3))"
   ]
  },
  {
   "attachments": {},
   "cell_type": "markdown",
   "metadata": {},
   "source": [
    "maths in numpy"
   ]
  },
  {
   "cell_type": "code",
   "execution_count": null,
   "metadata": {},
   "outputs": [],
   "source": [
    "x = np.array([\n",
    "    [2, 3, 4],\n",
    "    [5, 6, 7]\n",
    "])\n",
    "y = np.array([\n",
    "    [1, 2, 3],\n",
    "    [4, 7, 9]\n",
    "])"
   ]
  },
  {
   "cell_type": "code",
   "execution_count": null,
   "metadata": {},
   "outputs": [],
   "source": [
    "print(x + y) # element wise addition\n",
    "print(x - y) # element wise subtraction\n",
    "print(x * y) # element wise multiplication\n",
    "print(x / y) # element wise division\n",
    "print(x ** y) # element wise power\n",
    "print(x % y) # element wise modulus"
   ]
  },
  {
   "cell_type": "code",
   "execution_count": null,
   "metadata": {},
   "outputs": [],
   "source": [
    "print(x * 2) # scalar multiplication\n",
    "print(x / 2) # scalar division\n",
    "print(x ** 2) # scalar power\n",
    "print(x % 2) # scalar modulus"
   ]
  },
  {
   "cell_type": "code",
   "execution_count": null,
   "metadata": {},
   "outputs": [],
   "source": [
    "# matrix multiplication\n",
    "print(x.dot(y.T))\n",
    "print(np.matmul(x, y.T))\n",
    "print(x @ y.T)"
   ]
  },
  {
   "cell_type": "code",
   "execution_count": null,
   "metadata": {},
   "outputs": [],
   "source": [
    "# statistical functions\n",
    "print(x.sum()) # sum of all elements\n",
    "print(x.sum(axis=0))  # sum of columns\n",
    "print(x.sum(axis=1))  # sum of rows\n",
    "print(x.mean()) # mean of all elements\n",
    "print(x.std()) # standard deviation of all elements\n",
    "print(x.min()) # minimum of all elements\n",
    "print(x.max()) # maximum of all elements\n",
    "print(x.argmax()) # index of maximum element\n",
    "print(x.argmin()) # index of minimum element\n"
   ]
  },
  {
   "cell_type": "code",
   "execution_count": null,
   "metadata": {},
   "outputs": [],
   "source": [
    "# trigonometric functions\n",
    "print(np.sin(x))\n",
    "print(np.cos(x))\n",
    "print(np.tan(x))"
   ]
  },
  {
   "cell_type": "code",
   "execution_count": null,
   "metadata": {},
   "outputs": [],
   "source": [
    "# indexing and slicing\n",
    "print(x[0, 0]) # first row, first column\n",
    "print(x[0, :]) # first row, all columns\n",
    "print(x[:, 0]) # all rows, first column\n",
    "print(x[:2, :2]) # first two rows, first two columns\n",
    "print(x[:2]) # first two rows, all columns\n"
   ]
  },
  {
   "cell_type": "code",
   "execution_count": null,
   "metadata": {},
   "outputs": [],
   "source": []
  }
 ],
 "metadata": {
  "kernelspec": {
   "display_name": "base",
   "language": "python",
   "name": "python3"
  },
  "language_info": {
   "codemirror_mode": {
    "name": "ipython",
    "version": 3
   },
   "file_extension": ".py",
   "mimetype": "text/x-python",
   "name": "python",
   "nbconvert_exporter": "python",
   "pygments_lexer": "ipython3",
   "version": "3.10.11"
  },
  "orig_nbformat": 4
 },
 "nbformat": 4,
 "nbformat_minor": 2
}
