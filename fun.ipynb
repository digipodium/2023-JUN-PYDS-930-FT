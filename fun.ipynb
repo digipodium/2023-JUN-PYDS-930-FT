{
 "cells": [
  {
   "cell_type": "code",
   "execution_count": 2,
   "metadata": {},
   "outputs": [],
   "source": [
    "def kuchbhi():\n",
    "    pass"
   ]
  },
  {
   "cell_type": "code",
   "execution_count": 3,
   "metadata": {},
   "outputs": [],
   "source": [
    "def add5():\n",
    "    x =int(input(\"Enter 1 number: \"))\n",
    "    y =int(input(\"Enter 2 number: \"))\n",
    "    z = int(input(\"Enter 3 number: \"))\n",
    "    a = int(input(\"Enter 4 number: \"))\n",
    "    b = int(input(\"Enter 5 number: \"))\n",
    "    print(f'output is {x+y+z+a+b}')"
   ]
  },
  {
   "cell_type": "code",
   "execution_count": 5,
   "metadata": {},
   "outputs": [
    {
     "name": "stdout",
     "output_type": "stream",
     "text": [
      "output is 210\n"
     ]
    }
   ],
   "source": [
    "add5()"
   ]
  },
  {
   "cell_type": "code",
   "execution_count": 6,
   "metadata": {},
   "outputs": [],
   "source": [
    "def add5(a,b,c,d,e):\n",
    "    return a+b+c+d+e"
   ]
  },
  {
   "cell_type": "code",
   "execution_count": 7,
   "metadata": {},
   "outputs": [
    {
     "data": {
      "text/plain": [
       "15"
      ]
     },
     "execution_count": 7,
     "metadata": {},
     "output_type": "execute_result"
    }
   ],
   "source": [
    "add5(1,2,3,4,5)"
   ]
  },
  {
   "cell_type": "code",
   "execution_count": 8,
   "metadata": {},
   "outputs": [
    {
     "name": "stdout",
     "output_type": "stream",
     "text": [
      "15\n"
     ]
    }
   ],
   "source": [
    "ans = add5(1,2,3,4,5)\n",
    "print(ans)"
   ]
  },
  {
   "cell_type": "code",
   "execution_count": 9,
   "metadata": {},
   "outputs": [],
   "source": [
    "def fib10():\n",
    "    x = [0,1]\n",
    "    for _ in range(8):\n",
    "        x.append(x[-1] + x[-2])\n",
    "    return x"
   ]
  },
  {
   "cell_type": "code",
   "execution_count": 11,
   "metadata": {},
   "outputs": [],
   "source": [
    "def fib_extreme(first, second, size):\n",
    "    x = [first, second]\n",
    "    for _ in range(size-2):\n",
    "        x.append(x[-1] + x[-2])\n",
    "    return x"
   ]
  },
  {
   "cell_type": "code",
   "execution_count": 12,
   "metadata": {},
   "outputs": [
    {
     "data": {
      "text/plain": [
       "[3,\n",
       " 5,\n",
       " 8,\n",
       " 13,\n",
       " 21,\n",
       " 34,\n",
       " 55,\n",
       " 89,\n",
       " 144,\n",
       " 233,\n",
       " 377,\n",
       " 610,\n",
       " 987,\n",
       " 1597,\n",
       " 2584,\n",
       " 4181,\n",
       " 6765,\n",
       " 10946,\n",
       " 17711,\n",
       " 28657,\n",
       " 46368,\n",
       " 75025,\n",
       " 121393,\n",
       " 196418,\n",
       " 317811]"
      ]
     },
     "execution_count": 12,
     "metadata": {},
     "output_type": "execute_result"
    }
   ],
   "source": [
    "fib_extreme(3 ,5 ,25)"
   ]
  },
  {
   "attachments": {},
   "cell_type": "markdown",
   "metadata": {},
   "source": [
    "types of function in python on the basis of parameter\n",
    "1. Required argument function\n",
    "2. Keyword argument function\n",
    "3. Default argument function\n",
    "4. Variable length argument function\n",
    "    - *args (variable length argument)\n",
    "    - **kwargs (variable length keyword argument)"
   ]
  },
  {
   "cell_type": "code",
   "execution_count": 1,
   "metadata": {},
   "outputs": [],
   "source": [
    "def mulitplier(x,y):\n",
    "    return x*y"
   ]
  },
  {
   "cell_type": "code",
   "execution_count": 3,
   "metadata": {},
   "outputs": [
    {
     "name": "stdout",
     "output_type": "stream",
     "text": [
      "6\n",
      "396\n"
     ]
    }
   ],
   "source": [
    "print(mulitplier(2,3))\n",
    "print(mulitplier(12,33))\n",
    "# print(mulitplier(2))"
   ]
  },
  {
   "cell_type": "code",
   "execution_count": 4,
   "metadata": {},
   "outputs": [],
   "source": [
    "def si(p,r,t):\n",
    "    return p*r*t/100"
   ]
  },
  {
   "cell_type": "code",
   "execution_count": 9,
   "metadata": {},
   "outputs": [
    {
     "name": "stdout",
     "output_type": "stream",
     "text": [
      "6000.0\n",
      "6000.0\n"
     ]
    }
   ],
   "source": [
    "print(si(10000,12,5)) # positional arguments\n",
    "print(si(t=5,r=12,p=10000)) # keyword arguments "
   ]
  },
  {
   "cell_type": "code",
   "execution_count": 4,
   "metadata": {},
   "outputs": [],
   "source": [
    "def mulitplierv2(x=1,y=1,z=1):\n",
    "    return x*y*z"
   ]
  },
  {
   "cell_type": "code",
   "execution_count": 10,
   "metadata": {},
   "outputs": [
    {
     "name": "stdout",
     "output_type": "stream",
     "text": [
      "8\n",
      "80\n",
      "80\n",
      "2000\n",
      "1\n",
      "12\n",
      "12\n",
      "2400\n"
     ]
    }
   ],
   "source": [
    "print(mulitplierv2(2,4))\n",
    "print(mulitplierv2(2,4,10))\n",
    "print(mulitplierv2(2,4, z=10))\n",
    "print(mulitplierv2(x=2, z=10, y=100))\n",
    "print(mulitplierv2())\n",
    "print(mulitplierv2(12))\n",
    "print(mulitplierv2(z=12))\n",
    "print(mulitplierv2(z=12, x=200))"
   ]
  },
  {
   "cell_type": "code",
   "execution_count": 14,
   "metadata": {},
   "outputs": [],
   "source": [
    "def mean(*numbers):\n",
    "    return sum(numbers)/len(numbers)"
   ]
  },
  {
   "cell_type": "code",
   "execution_count": 19,
   "metadata": {},
   "outputs": [
    {
     "data": {
      "text/plain": [
       "2.0"
      ]
     },
     "execution_count": 19,
     "metadata": {},
     "output_type": "execute_result"
    }
   ],
   "source": [
    "mean(1,2,3)"
   ]
  },
  {
   "cell_type": "code",
   "execution_count": 20,
   "metadata": {},
   "outputs": [
    {
     "name": "stdout",
     "output_type": "stream",
     "text": [
      "from turtle import *\n",
      "\n",
      "speed('fastest')\n",
      "\n",
      "# polygon\n",
      "distance = 100\n",
      "sides = 6\n",
      "\n",
      "for i in range(sides):\n",
      "    pencolor('red')\n",
      "    fd(distance)\n",
      "    rt(360/sides)\n",
      "    circle(distance/2)\n",
      "    for i in range(sides):\n",
      "        pencolor('blue')\n",
      "        fd(distance/2)\n",
      "        rt(360/sides)\n",
      "        dot(10)\n",
      "        write(i)\n",
      "        for i in range(sides):\n",
      "            pencolor('green')\n",
      "            fd(distance/4)\n",
      "            rt(360/sides)\n",
      "hideturtle()\n",
      "mainloop() # This line is needed to keep the window open\n"
     ]
    }
   ],
   "source": [
    "# read file\n",
    "with open('t1.py') as f:\n",
    "    print(f.read())"
   ]
  },
  {
   "cell_type": "code",
   "execution_count": 21,
   "metadata": {},
   "outputs": [],
   "source": [
    "# write file\n",
    "data = \"Journey before destination\"\n",
    "with open('quote.txt', 'w') as f:\n",
    "    f.write(data)"
   ]
  },
  {
   "cell_type": "code",
   "execution_count": 24,
   "metadata": {},
   "outputs": [],
   "source": [
    "codedemo = '''# this example\n",
    "def thisfunc():\n",
    "    print(\"Hello World\")\n",
    "'''\n",
    "with open('code_with_coding.py', 'w') as f:\n",
    "    f.write(codedemo)"
   ]
  },
  {
   "cell_type": "code",
   "execution_count": 30,
   "metadata": {},
   "outputs": [],
   "source": [
    "def report(**students):\n",
    "    with open('report.csv', 'w') as f:\n",
    "        f.write('Name,Marks\\n')\n",
    "        for name, marks in students.items():\n",
    "            f.write(f'{name},{marks}\\n')\n"
   ]
  },
  {
   "cell_type": "code",
   "execution_count": 31,
   "metadata": {},
   "outputs": [],
   "source": [
    "report(ram=100, shyam=200, mohan=300)"
   ]
  },
  {
   "attachments": {},
   "cell_type": "markdown",
   "metadata": {},
   "source": [
    "- `f(x) = x**2 + x*10 + x`\n",
    "- `f(2)`\n",
    "- `f(x,y) = x**2 + y**2 + x*y`\n",
    "- `f(2,3)`"
   ]
  },
  {
   "cell_type": "code",
   "execution_count": 35,
   "metadata": {},
   "outputs": [],
   "source": [
    "def eq1(x=1):\n",
    "    return x**2+x*10+x"
   ]
  },
  {
   "cell_type": "code",
   "execution_count": 41,
   "metadata": {},
   "outputs": [],
   "source": [
    "f = lambda i: i**2+i*10+i\n",
    "g = lambda x,y: x+y if x>y else y-x"
   ]
  },
  {
   "cell_type": "code",
   "execution_count": 42,
   "metadata": {},
   "outputs": [
    {
     "name": "stdout",
     "output_type": "stream",
     "text": [
      "26 210\n",
      "11 35\n"
     ]
    }
   ],
   "source": [
    "print(f(2), f(10))\n",
    "print(g(2,13), g(33,2))"
   ]
  },
  {
   "cell_type": "code",
   "execution_count": 46,
   "metadata": {},
   "outputs": [
    {
     "name": "stdout",
     "output_type": "stream",
     "text": [
      "sihT si a ecnetnes "
     ]
    }
   ],
   "source": [
    "sentence = \"This is a sentence\"\n",
    "words = sentence.split()\n",
    "i = 0\n",
    "while i < len(words):\n",
    "    print(words[i][::-1], end=' ')\n",
    "    i += 1"
   ]
  },
  {
   "cell_type": "code",
   "execution_count": null,
   "metadata": {},
   "outputs": [],
   "source": []
  }
 ],
 "metadata": {
  "kernelspec": {
   "display_name": "base",
   "language": "python",
   "name": "python3"
  },
  "language_info": {
   "codemirror_mode": {
    "name": "ipython",
    "version": 3
   },
   "file_extension": ".py",
   "mimetype": "text/x-python",
   "name": "python",
   "nbconvert_exporter": "python",
   "pygments_lexer": "ipython3",
   "version": "3.10.11"
  },
  "orig_nbformat": 4
 },
 "nbformat": 4,
 "nbformat_minor": 2
}
