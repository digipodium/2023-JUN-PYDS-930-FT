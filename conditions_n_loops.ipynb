{
 "cells": [
  {
   "cell_type": "code",
   "execution_count": 1,
   "metadata": {},
   "outputs": [],
   "source": [
    "x = 10\n",
    "y = 3"
   ]
  },
  {
   "cell_type": "code",
   "execution_count": 2,
   "metadata": {},
   "outputs": [
    {
     "name": "stdout",
     "output_type": "stream",
     "text": [
      "x is greater than y\n"
     ]
    }
   ],
   "source": [
    "if x > y:\n",
    "    print(\"x is greater than y\")"
   ]
  },
  {
   "cell_type": "code",
   "execution_count": 3,
   "metadata": {},
   "outputs": [
    {
     "name": "stdout",
     "output_type": "stream",
     "text": [
      "x is greater than y and x is positive\n"
     ]
    }
   ],
   "source": [
    "if x > y and x > 0:\n",
    "    print(\"x is greater than y and x is positive\")"
   ]
  },
  {
   "cell_type": "code",
   "execution_count": 4,
   "metadata": {},
   "outputs": [
    {
     "name": "stdout",
     "output_type": "stream",
     "text": [
      "x is greater than 5 and y is greater than 3\n"
     ]
    }
   ],
   "source": [
    "if x >5:\n",
    "    if y > 1:\n",
    "        print(\"x is greater than 5 and y is greater than 3\")"
   ]
  },
  {
   "cell_type": "code",
   "execution_count": 5,
   "metadata": {},
   "outputs": [
    {
     "name": "stdout",
     "output_type": "stream",
     "text": [
      "x is greater than 5\n"
     ]
    }
   ],
   "source": [
    "if x > 5:\n",
    "    print(\"x is greater than 5\")\n",
    "else:\n",
    "    print(\"x is not greater than 5\")"
   ]
  },
  {
   "cell_type": "code",
   "execution_count": 6,
   "metadata": {},
   "outputs": [
    {
     "name": "stdout",
     "output_type": "stream",
     "text": [
      "x and y are greater than 5\n"
     ]
    }
   ],
   "source": [
    "if x > 5:\n",
    "    if y > 1:\n",
    "        print(\"x and y are greater than 5\")\n",
    "    else:\n",
    "        print(\"x is greater than 5 but y is not greater than 5\")\n",
    "else:\n",
    "    print(\"x is not greater than 5\")"
   ]
  },
  {
   "cell_type": "code",
   "execution_count": 7,
   "metadata": {},
   "outputs": [
    {
     "name": "stdout",
     "output_type": "stream",
     "text": [
      "z is greater than x and y\n"
     ]
    }
   ],
   "source": [
    "# multiple conditional statements \n",
    "x, y, z = 120, 120, 121\n",
    "if x > y and x > z:\n",
    "    print(\"x is greater than y and z\")\n",
    "elif y > x and y > z:\n",
    "    print(\"y is greater than x and z\")\n",
    "elif z > x and z > y:\n",
    "    print(\"z is greater than x and y\")\n",
    "else:\n",
    "    print(\"x, y and z are equal\")"
   ]
  },
  {
   "cell_type": "code",
   "execution_count": 10,
   "metadata": {},
   "outputs": [
    {
     "name": "stdout",
     "output_type": "stream",
     "text": [
      "Today is Tuesday\n"
     ]
    }
   ],
   "source": [
    "day = input('Enter the day of the week: ')\n",
    "match day:\n",
    "    case 'Monday':\n",
    "        print('Today is Monday')\n",
    "    # ...\n",
    "    case 'Sunday':\n",
    "        print('Today is Sunday')\n",
    "    # default case\n",
    "    case _:\n",
    "        print('Invalid day')"
   ]
  },
  {
   "cell_type": "code",
   "execution_count": 9,
   "metadata": {},
   "outputs": [
    {
     "name": "stdout",
     "output_type": "stream",
     "text": [
      "Invalid day\n"
     ]
    }
   ],
   "source": [
    "day = input('Enter the day of the week: ')\n",
    "if day == 'Sunday':\n",
    "    print('Today is Sunday')\n",
    "elif day == 'Monday':\n",
    "    print('Today is Monday')\n",
    "elif day == 'Tuesday':\n",
    "    print('Today is Tuesday')\n",
    "elif day == 'Wednesday':\n",
    "    print('Today is Wednesday')\n",
    "elif day == 'Thursday':\n",
    "    print('Today is Thursday')\n",
    "elif day == 'Friday':\n",
    "    print('Today is Friday')\n",
    "elif day == 'Saturday':\n",
    "    print('Today is Saturday')\n",
    "else:\n",
    "    print('Invalid day')"
   ]
  }
 ],
 "metadata": {
  "kernelspec": {
   "display_name": "base",
   "language": "python",
   "name": "python3"
  },
  "language_info": {
   "codemirror_mode": {
    "name": "ipython",
    "version": 3
   },
   "file_extension": ".py",
   "mimetype": "text/x-python",
   "name": "python",
   "nbconvert_exporter": "python",
   "pygments_lexer": "ipython3",
   "version": "3.11.4"
  },
  "orig_nbformat": 4
 },
 "nbformat": 4,
 "nbformat_minor": 2
}
